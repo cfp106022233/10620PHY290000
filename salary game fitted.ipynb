{
 "cells": [
  {
   "cell_type": "code",
   "execution_count": null,
   "metadata": {
    "scrolled": true
   },
   "outputs": [],
   "source": [
    "import numpy as np\n",
    "import matplotlib.pyplot as plt\n",
    "import random\n",
    "\n",
    "\n",
    "n = 500\n",
    "m = 40\n",
    "dm = 10\n",
    "k = 10000\n",
    "\n",
    "x = np.ones(n)\n",
    "y = np.array(x)\n",
    "\n",
    "from random import randint\n",
    "\n",
    "for i in range(k):\n",
    "    a = randint(1, n)\n",
    "    b = randint(1, n)\n",
    "    if a != b:\n",
    "        sign = randint(0,2)\n",
    "        if  sign == 0 and y[a-1] != 0:\n",
    "            y[a-1] = y[a-1] - dm\n",
    "            y[b-1] = y[b-1] + dm\n",
    "        elif sign == 1 and y[b-1] != 0:\n",
    "            y[a-1] = y[a-1] + dm\n",
    "            y[b-1] = y[b-1] - dm\n",
    "            \n",
    "\n",
    "\n",
    "p = plt.hist(y,20)\n",
    "print(p)\n",
    "dx = (p[1][1] - p[1][0])\n",
    "bin_center = np.array(p[1][0:-1]) + dx/2\n",
    "print(bin_center)\n",
    "\n",
    "\n",
    "from scipy import optimize\n",
    "\n",
    "def test_func(x, amp, sigma):\n",
    "    return amp * np.exp(-(x-m) ** 2/2 * sigma** 2)\n",
    "\n",
    "params, params_covariance = optimize.curve_fit(test_func, bin_center, p[0])\n",
    "print(params, params_covariance)\n",
    "\n",
    "plt.plot(bin_center, test_func(bin_center, params[0], params[1]), \"r*\", label = 'Fitted function')\n",
    "plt.show()"
   ]
  },
  {
   "cell_type": "code",
   "execution_count": null,
   "metadata": {},
   "outputs": [],
   "source": []
  },
  {
   "cell_type": "code",
   "execution_count": null,
   "metadata": {},
   "outputs": [],
   "source": []
  },
  {
   "cell_type": "code",
   "execution_count": null,
   "metadata": {},
   "outputs": [],
   "source": []
  },
  {
   "cell_type": "code",
   "execution_count": null,
   "metadata": {},
   "outputs": [],
   "source": []
  },
  {
   "cell_type": "code",
   "execution_count": null,
   "metadata": {},
   "outputs": [],
   "source": []
  },
  {
   "cell_type": "code",
   "execution_count": null,
   "metadata": {},
   "outputs": [],
   "source": []
  }
 ],
 "metadata": {
  "kernelspec": {
   "display_name": "Python 3",
   "language": "python",
   "name": "python3"
  },
  "language_info": {
   "codemirror_mode": {
    "name": "ipython",
    "version": 3
   },
   "file_extension": ".py",
   "mimetype": "text/x-python",
   "name": "python",
   "nbconvert_exporter": "python",
   "pygments_lexer": "ipython3",
   "version": "3.7.1"
  }
 },
 "nbformat": 4,
 "nbformat_minor": 2
}
