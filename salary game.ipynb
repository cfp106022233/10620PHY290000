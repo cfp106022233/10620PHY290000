{
 "cells": [
  {
   "cell_type": "code",
   "execution_count": null,
   "metadata": {
    "scrolled": false
   },
   "outputs": [],
   "source": [
    "import numpy as np\n",
    "import matplotlib.pyplot as plt\n",
    "import random\n",
    "\n",
    "n,m,dm,k = input().split(' ') \n",
    "n = int(n)\n",
    "m = int(m)\n",
    "dm = int(dm)\n",
    "k = int(k)\n",
    "\n",
    "x = np.ones(n)\n",
    "y = np.array(x)\n",
    "\n",
    "from random import randint\n",
    "\n",
    "for i in range(k):\n",
    "    a = randint(1, n)\n",
    "    b = randint(1, n)\n",
    "    if a != b:\n",
    "        sign = randint(0,2)\n",
    "        if  sign == 0 and y[a-1] != 0:\n",
    "            y[a-1] = y[a-1] - dm\n",
    "            y[b-1] = y[b-1] + dm\n",
    "        elif sign == 1 and y[b-1] != 0:\n",
    "            y[a-1] = y[a-1] + dm\n",
    "            y[b-1] = y[b-1] - dm\n",
    "        else:\n",
    "            y[a-1] = y[a-1]\n",
    "            y[b-1] = y[b-1]\n",
    "            \n",
    "plt.hist(y)\n",
    "plt.show()             "
   ]
  },
  {
   "cell_type": "code",
   "execution_count": null,
   "metadata": {},
   "outputs": [],
   "source": [
    "\n"
   ]
  },
  {
   "cell_type": "code",
   "execution_count": null,
   "metadata": {},
   "outputs": [],
   "source": []
  },
  {
   "cell_type": "code",
   "execution_count": null,
   "metadata": {},
   "outputs": [],
   "source": []
  },
  {
   "cell_type": "code",
   "execution_count": null,
   "metadata": {},
   "outputs": [],
   "source": []
  }
 ],
 "metadata": {
  "kernelspec": {
   "display_name": "Python 3",
   "language": "python",
   "name": "python3"
  },
  "language_info": {
   "codemirror_mode": {
    "name": "ipython",
    "version": 3
   },
   "file_extension": ".py",
   "mimetype": "text/x-python",
   "name": "python",
   "nbconvert_exporter": "python",
   "pygments_lexer": "ipython3",
   "version": "3.7.1"
  }
 },
 "nbformat": 4,
 "nbformat_minor": 2
}
