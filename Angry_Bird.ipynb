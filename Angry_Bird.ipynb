{
 "cells": [
  {
   "cell_type": "code",
   "execution_count": 8,
   "metadata": {},
   "outputs": [
    {
     "data": {
      "image/png": "[encoded data removed]",
      "text/plain": [
       "<Figure size 432x288 with 1 Axes>"
      ]
     },
     "metadata": {
      "needs_background": "light"
     },
     "output_type": "display_data"
    }
   ],
   "source": [
    "    # import\n",
    "    import matplotlib.pyplot as plt\n",
    "    import math\n",
    "    import numpy as np\n",
    "    import random\n",
    "    \n",
    "    \n",
    "    g=9.8\n",
    "    \n",
    "    \n",
    "    x= random.randint(50,99)\n",
    "    y = random.randint(0,49)\n",
    "    \n",
    "   \n",
    "    plt.xlim(-5,105)\n",
    "    plt.ylim(-5,50)\n",
    "    plt.plot(x,y,'go')\n",
    "    \n",
    "    \n",
    "    v0 = 100\n",
    "    dd = 30\n",
    "    d = (dd/180)*math.pi\n",
    "\n",
    "    \n",
    "    t = np.linspace(0, 4, 100)\n",
    "    x2 = v0*math.cos(d)*t\n",
    "    y2 = (v0*math.sin(d)-(9.8*t))*t\n",
    "\n",
    "\n",
    "    plt.plot(x2,y2)\n",
    "    plt.show()\n",
    "    \n",
    "    \n",
    "   "
   ]
  },
  {
   "cell_type": "code",
   "execution_count": null,
   "metadata": {},
   "outputs": [],
   "source": [
    "\n",
    "    \n",
    "    if x/(v0*math.cos(d)) == (-v0*math.sin(d)+((v0**2)*(math.sin(d)**2)-4*9.8*y))/2*9.8 or x/(v0*math.cos(d)) == (-v0*math.sin(d)-(v0**2*math.sin(d)**2-4*9.8*y))/2*9.8:\n",
    "\n",
    "    print(\"Hit!\")\n",
    "\n",
    "    else:\n",
    " \n",
    "    print(\"Miss!\")\n"
   ]
  }
 ],
 "metadata": {
  "kernelspec": {
   "display_name": "Python 3",
   "language": "python",
   "name": "python3"
  },
  "language_info": {
   "codemirror_mode": {
    "name": "ipython",
    "version": 3
   },
   "file_extension": ".py",
   "mimetype": "text/x-python",
   "name": "python",
   "nbconvert_exporter": "python",
   "pygments_lexer": "ipython3",
   "version": "3.7.1"
  }
 },
 "nbformat": 4,
 "nbformat_minor": 2
}
