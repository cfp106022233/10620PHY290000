{
 "cells": [
  {
   "cell_type": "code",
   "execution_count": null,
   "metadata": {},
   "outputs": [],
   "source": [
    "fp = open('Alice.txt','r',encoding = 'UTF-8')\n",
    "\n",
    "# Read the first line from the file\n",
    "line = fp.readline()\n",
    "print(line)\n",
    "print(type(line))\n",
    "\n",
    "# Read the second line from the file\n",
    "line = fp.readline()\n",
    "print(line)\n",
    "\n",
    "line = fp.readline()\n",
    "print(line)\n",
    "\n",
    "s = line.split()\n",
    "print(s)\n",
    "print(type(s))\n",
    "\n",
    "fp.close()"
   ]
  },
  {
   "cell_type": "code",
   "execution_count": null,
   "metadata": {},
   "outputs": [],
   "source": [
    "fp = open('Alice.txt','r',encoding = 'UTF-8')\n",
    "line = fp.readline()\n",
    "\n",
    "while line:\n",
    "    print(line)\n",
    "    line = fp.readline()\n",
    "    \n",
    "fp.close()\n"
   ]
  },
  {
   "cell_type": "code",
   "execution_count": null,
   "metadata": {},
   "outputs": [],
   "source": [
    "fp = open('Alice.txt','r',encoding = 'UTF-8')\n",
    "line = fp.readline()\n",
    "\n",
    "my_dict = {}\n",
    "\n",
    "while line:\n",
    "    s = line.split()\n",
    "    for x in s:\n",
    "        if x not in my_dict:\n",
    "            my_dict[x]=1\n",
    "        else:\n",
    "            my_dict[x]=my_dict[x]+1\n",
    "    line = fp.readline()\n",
    "    \n",
    "fp.close()\n",
    "\n",
    "num = []\n",
    "\n",
    "for key in my_dict:\n",
    "    num.append(my_dict[key])\n",
    "\n",
    "print(len(num))\n",
    "num.sort()\n",
    "num.reverse()\n",
    "\n",
    "\n",
    "import matplotlib.pyplot as plt\n",
    "plt.loglog(range(len(num)),num)\n",
    "plt.xlabel('Rank of the word')\n",
    "plt.ylabel('Number of the occurance')\n",
    "plt.show()"
   ]
  },
  {
   "cell_type": "code",
   "execution_count": null,
   "metadata": {},
   "outputs": [],
   "source": []
  },
  {
   "cell_type": "code",
   "execution_count": null,
   "metadata": {},
   "outputs": [],
   "source": []
  }
 ],
 "metadata": {
  "kernelspec": {
   "display_name": "Python 3",
   "language": "python",
   "name": "python3"
  },
  "language_info": {
   "codemirror_mode": {
    "name": "ipython",
    "version": 3
   },
   "file_extension": ".py",
   "mimetype": "text/x-python",
   "name": "python",
   "nbconvert_exporter": "python",
   "pygments_lexer": "ipython3",
   "version": "3.7.1"
  }
 },
 "nbformat": 4,
 "nbformat_minor": 2
}
